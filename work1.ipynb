{
 "cells": [
  {
   "cell_type": "code",
   "execution_count": null,
   "id": "3333cb71",
   "metadata": {},
   "outputs": [],
   "source": [
    "from tokenizer.tokenizer import *"
   ]
  },
  {
   "cell_type": "code",
   "execution_count": null,
   "id": "de651612",
   "metadata": {},
   "outputs": [],
   "source": [
    "\n",
    "tokenizer = Tokenizer.from_files(\n",
    "    vocab_path=\"data/TinyStories_vocab.json\", merges_path=\"data/TinyStories_merges.txt\"\n",
    ")\n",
    "\n",
    "encoded_ids = tokenizer.encode(\"Lets' play with Tokenizer!😄 👌 💰\")\n",
    "print(encoded_ids)\n",
    "decoded_text = tokenizer.decode(encoded_ids)\n",
    "print(decoded_text)"
   ]
  }
 ],
 "metadata": {
  "language_info": {
   "name": "python"
  }
 },
 "nbformat": 4,
 "nbformat_minor": 5
}
