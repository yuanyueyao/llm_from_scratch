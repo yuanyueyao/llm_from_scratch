{
 "cells": [
  {
   "cell_type": "code",
   "execution_count": 2,
   "id": "05346886",
   "metadata": {},
   "outputs": [],
   "source": [
    "from tokenizer import *"
   ]
  },
  {
   "cell_type": "code",
   "execution_count": null,
   "id": "cffb2173",
   "metadata": {},
   "outputs": [
    {
     "name": "stdout",
     "output_type": "stream",
     "text": [
      "Requirement already satisfied: tqdm in ./.venv/lib/python3.13/site-packages (4.67.1)\n"
     ]
    }
   ],
   "source": [
    "!pip3 install tqdm\n",
    "!pip3 install regex"
   ]
  },
  {
   "cell_type": "code",
   "execution_count": 12,
   "id": "e080c1a2",
   "metadata": {},
   "outputs": [
    {
     "name": "stdout",
     "output_type": "stream",
     "text": [
      "[43, 1039, 6, 711, 351, 29130, 7509, 0, 47249, 226, 50169, 234, 12520, 240, 108]\n",
      "Lets' play with Tokenizer!😄 👌 💰\n"
     ]
    }
   ],
   "source": [
    "tokenizer = Tokenizer.from_files(\n",
    "    vocab_path=\"gpt2_vocab.json\", merges_path=\"gpt2_merges.txt\"\n",
    ")\n",
    "\n",
    "encoded_ids = tokenizer.encode(\"Lets' play with Tokenizer!😄 👌 💰\")\n",
    "print(encoded_ids)\n",
    "decoded_text = tokenizer.decode(encoded_ids)\n",
    "print(decoded_text)"
   ]
  }
 ],
 "metadata": {
  "kernelspec": {
   "display_name": ".venv (3.13.7)",
   "language": "python",
   "name": "python3"
  },
  "language_info": {
   "codemirror_mode": {
    "name": "ipython",
    "version": 3
   },
   "file_extension": ".py",
   "mimetype": "text/x-python",
   "name": "python",
   "nbconvert_exporter": "python",
   "pygments_lexer": "ipython3",
   "version": "3.13.7"
  }
 },
 "nbformat": 4,
 "nbformat_minor": 5
}
