{
 "cells": [
  {
   "cell_type": "code",
   "execution_count": 2,
   "id": "05346886",
   "metadata": {},
   "outputs": [],
   "source": [
    "from tokenizer.tokenizer import *"
   ]
  },
  {
   "cell_type": "code",
   "execution_count": 5,
   "id": "cffb2173",
   "metadata": {},
   "outputs": [
    {
     "name": "stdout",
     "output_type": "stream",
     "text": [
      "Requirement already satisfied: tqdm in ./.venv/lib/python3.13/site-packages (4.67.1)\n",
      "Requirement already satisfied: regex in ./.venv/lib/python3.13/site-packages (2025.9.18)\n"
     ]
    }
   ],
   "source": [
    "!pip3 install tqdm\n",
    "!pip3 install regex"
   ]
  },
  {
   "cell_type": "markdown",
   "id": "252f8240",
   "metadata": {},
   "source": [
    "### Testing the encode and decode functions of the trained tokenizer."
   ]
  },
  {
   "cell_type": "code",
   "execution_count": null,
   "id": "e080c1a2",
   "metadata": {},
   "outputs": [
    {
     "name": "stdout",
     "output_type": "stream",
     "text": [
      "[43, 1039, 6, 711, 351, 29130, 7509, 0, 47249, 226, 50169, 234, 12520, 240, 108]\n",
      "Lets' play with Tokenizer!😄 👌 💰\n"
     ]
    }
   ],
   "source": [
    "\n",
    "tokenizer = Tokenizer.from_files(\n",
    "    vocab_path=\"data/gpt2_vocab.json\", merges_path=\"data/gpt2_merges.txt\"\n",
    ")\n",
    "\n",
    "encoded_ids = tokenizer.encode(\"Lets' play with Tokenizer!😄 👌 💰\")\n",
    "print(encoded_ids)\n",
    "decoded_text = tokenizer.decode(encoded_ids)\n",
    "print(decoded_text)"
   ]
  },
  {
   "cell_type": "markdown",
   "id": "8310f213",
   "metadata": {},
   "source": [
    "### Train and save your own bpe tokenizer"
   ]
  },
  {
   "cell_type": "code",
   "execution_count": null,
   "id": "8003723d",
   "metadata": {},
   "outputs": [],
   "source": [
    "tokenizer = Tokenizer(None, None) # None vocab and merges.\n",
    "input_path = \"path/to/your/textfile.txt\"  # Replace with your text file path\n",
    "special_tokens = [\"your_special_tokens\"] # Define your special tokens if any, for example: [\"<s>\", \"</s>\", \"<pad>\", \"<|endoftext|>\"]\n",
    "tokenizer.train(input_path, vocab_size=50257, special_tokens=special_tokens)\n",
    "tokenizer.save(\"path_vocab.json\", \"custom_merges.txt\")"
   ]
  },
  {
   "cell_type": "code",
   "execution_count": null,
   "id": "2d3d4e55",
   "metadata": {},
   "outputs": [
    {
     "name": "stdout",
     "output_type": "stream",
     "text": [
      "Removed special tokens and split into 5435399 documents in 67.96 seconds\n"
     ]
    },
    {
     "name": "stderr",
     "output_type": "stream",
     "text": [
      "Python(2705) MallocStackLogging: can't turn off malloc stack logging because it was not enabled.\n"
     ]
    },
    {
     "name": "stdout",
     "output_type": "stream",
     "text": [
      "Pre-tokenized in 526.85 seconds\n",
      "Aggregated frequencies in 0.04 seconds\n"
     ]
    },
    {
     "name": "stderr",
     "output_type": "stream",
     "text": [
      "Merging pairs: 100%|████████████████████████| 9743/9743 [08:42<00:00, 18.64it/s]\n"
     ]
    }
   ],
   "source": [
    "tokenizer = Tokenizer(None, None) # None vocab and merges.\n",
    "input_path = \"data/TinyStoriesV2-GPT4-train.txt\"  # Replace with your text file path\n",
    "special_tokens = [\"<|endoftext|>\"] # Define your special tokens if any, for example: [\"<s>\", \"</s>\", \"<pad>\", \"<|endoftext|>\"]\n",
    "tokenizer.train(input_path, vocab_size=10_000, special_tokens=special_tokens)\n",
    "tokenizer.save(\"data/TinyStories_vocab.json\", \"data/TinyStories_merges.txt\")"
   ]
  }
 ],
 "metadata": {
  "kernelspec": {
   "display_name": ".venv (3.13.7)",
   "language": "python",
   "name": "python3"
  },
  "language_info": {
   "codemirror_mode": {
    "name": "ipython",
    "version": 3
   },
   "file_extension": ".py",
   "mimetype": "text/x-python",
   "name": "python",
   "nbconvert_exporter": "python",
   "pygments_lexer": "ipython3",
   "version": "3.13.7"
  }
 },
 "nbformat": 4,
 "nbformat_minor": 5
}
